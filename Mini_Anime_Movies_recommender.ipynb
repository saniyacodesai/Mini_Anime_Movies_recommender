{
  "nbformat": 4,
  "nbformat_minor": 0,
  "metadata": {
    "colab": {
      "provenance": []
    },
    "kernelspec": {
      "name": "python3",
      "display_name": "Python 3"
    },
    "language_info": {
      "name": "python"
    }
  },
  "cells": [
    {
      "cell_type": "code",
      "execution_count": 1,
      "metadata": {
        "colab": {
          "base_uri": "https://localhost:8080/"
        },
        "id": "XQwInjWcgtAz",
        "outputId": "7e2c1d2f-8922-4a15-e194-c5b753f5f344"
      },
      "outputs": [
        {
          "output_type": "stream",
          "name": "stdout",
          "text": [
            "🎬 Welcome to the Mini Movie/Anime Recommender! 🎬\n",
            "Enter a genre you like (Action, Fantasy, Romance, Adventure): Romance\n",
            "\n",
            "🔥 Here are some recommendations for you: 🔥\n",
            "\n",
            "Your Name - ⭐ 8.4\n",
            "Silent Voice - ⭐ 8.2\n",
            "Toradora - ⭐ 8.1\n",
            "Kimi ni Todoke - ⭐ 8.0\n",
            "Weathering With You - ⭐ 7.9\n",
            "The Garden of Words - ⭐ 7.7\n"
          ]
        }
      ],
      "source": [
        "import pandas as pd\n",
        "\n",
        "# Load the dataset\n",
        "movies = pd.read_csv(\"movies.csv\")\n",
        "\n",
        "def recommend_by_genre(genre):\n",
        "    # Filter movies containing the genre (case-insensitive)\n",
        "    recommended = movies[movies['Genre'].str.contains(genre, case=False)]\n",
        "\n",
        "    # Sort by rating (highest first)\n",
        "    recommended = recommended.sort_values(by='Rating', ascending=False)\n",
        "    return recommended[['Title', 'Rating']]\n",
        "\n",
        "# --- Main Program ---\n",
        "print(\"🎬 Welcome to the Mini Movie/Anime Recommender! 🎬\")\n",
        "user_genre = input(\"Enter a genre you like (Action, Fantasy, Romance, Adventure): \")\n",
        "\n",
        "recommendations = recommend_by_genre(user_genre)\n",
        "\n",
        "if not recommendations.empty:\n",
        "    print(\"\\n🔥 Here are some recommendations for you: 🔥\\n\")\n",
        "    for idx, row in recommendations.iterrows():\n",
        "        print(f\"{row['Title']} - ⭐ {row['Rating']}\")\n",
        "else:\n",
        "    print(\"\\n😢 Sorry, no movies found for that genre.\")"
      ]
    }
  ]
}
